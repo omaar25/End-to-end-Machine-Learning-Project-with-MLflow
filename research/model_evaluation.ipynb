{
 "cells": [
  {
   "cell_type": "code",
   "execution_count": 1,
   "metadata": {},
   "outputs": [
    {
     "data": {
      "text/plain": [
       "'/home/omar/Desktop/End-to-end-Machine-Learning-Project-with-MLflow/research'"
      ]
     },
     "execution_count": 1,
     "metadata": {},
     "output_type": "execute_result"
    }
   ],
   "source": [
    "%pwd"
   ]
  },
  {
   "cell_type": "code",
   "execution_count": 2,
   "metadata": {},
   "outputs": [],
   "source": [
    "import os\n",
    "os.chdir(\"../\")"
   ]
  },
  {
   "cell_type": "code",
   "execution_count": 3,
   "metadata": {},
   "outputs": [
    {
     "data": {
      "text/plain": [
       "'/home/omar/Desktop/End-to-end-Machine-Learning-Project-with-MLflow'"
      ]
     },
     "execution_count": 3,
     "metadata": {},
     "output_type": "execute_result"
    }
   ],
   "source": [
    "%pwd"
   ]
  },
  {
   "cell_type": "code",
   "execution_count": 4,
   "metadata": {},
   "outputs": [],
   "source": [
    "from dataclasses import dataclass\n",
    "from pathlib import Path\n",
    "\n",
    "@dataclass(frozen=True)\n",
    "class ModelEvaluationConfig:\n",
    "    root_dir: Path\n",
    "    test_data_path: Path\n",
    "    model_path: Path\n",
    "    parms: dict\n",
    "    metric_file_name: Path\n",
    "    target_column: str\n",
    "    mlflow_uri: str"
   ]
  },
  {
   "cell_type": "code",
   "execution_count": 5,
   "metadata": {},
   "outputs": [],
   "source": [
    "from src.ML.constants import *\n",
    "from ML.utils.common import read_yaml, create_directories, save_json"
   ]
  },
  {
   "cell_type": "code",
   "execution_count": 6,
   "metadata": {},
   "outputs": [],
   "source": [
    "class ConfigurationManager:\n",
    "    def __init__(self,\n",
    "                config_filepath=CONFIG_FILE_PATH,\n",
    "                params_filepath=PARAMS_FILE_PATH,\n",
    "                schema_filepath=SCHEMA_FILE_PATH):\n",
    "        \n",
    "        self.config = read_yaml(config_filepath)\n",
    "        self.params = read_yaml(params_filepath)\n",
    "        self.schema = read_yaml(schema_filepath)\n",
    "\n",
    "        create_directories([self.config.artifacts_root])\n",
    "\n",
    "    def get_model_evaluation_config(self) -> ModelEvaluationConfig:\n",
    "        config = self.config.model_evaluation\n",
    "        parms = {model_name: self.params[model_name] for model_name in self.params.keys()}\n",
    "        target_column = list(self.schema.TARGET_COLUMN.keys())[0]\n",
    "\n",
    "\n",
    "        create_directories([config.root_dir])\n",
    "\n",
    "        model_evaluation_config= ModelEvaluationConfig(\n",
    "            root_dir=config.root_dir,\n",
    "            test_data_path=config.test_data_path,\n",
    "            model_path = config.model_path,\n",
    "            parms=parms,\n",
    "            metric_file_name=config.metric_file_name,\n",
    "            target_column = target_column,\n",
    "            mlflow_uri=\"https://dagshub.com/omaar25/End-to-end-Machine-Learning-Project-with-MLflow.mlflow\",\n",
    "        )\n",
    "\n",
    "        return model_evaluation_config\n",
    "         "
   ]
  },
  {
   "cell_type": "code",
   "execution_count": 7,
   "metadata": {},
   "outputs": [],
   "source": [
    "import os\n",
    "import pandas as pd\n",
    "from sklearn.metrics import accuracy_score, precision_score, recall_score, f1_score\n",
    "import mlflow\n",
    "import mlflow.sklearn\n",
    "import numpy as np\n",
    "import joblib\n",
    "from src.ML import logger\n",
    "import dagshub\n"
   ]
  },
  {
   "cell_type": "code",
   "execution_count": 8,
   "metadata": {},
   "outputs": [],
   "source": [
    "\n",
    "class ModelEvaluation:\n",
    "    def __init__(self, config: ModelEvaluationConfig):\n",
    "        self.config = config\n",
    "        dagshub.init(repo_owner='omaar25', repo_name='End-to-end-Machine-Learning-Project-with-MLflow', mlflow=True)\n",
    "\n",
    "    def load_test_data(self):\n",
    "        \"\"\"Load the test data and split into features and target.\"\"\"\n",
    "        self.test_data = pd.read_csv(self.config.test_data_path)\n",
    "        self.X_test = self.test_data.drop(columns=[self.config.target_column])\n",
    "        self.y_test = self.test_data[self.config.target_column]\n",
    "        logger.info(\"Test data loaded successfully\")\n",
    "\n",
    "    def evaluate_model(self, model):\n",
    "        \"\"\"Evaluate a single model and return its metrics as a dictionary.\"\"\"\n",
    "        y_pred = model.predict(self.X_test)\n",
    "        accuracy = accuracy_score(self.y_test, y_pred)\n",
    "        precision = precision_score(self.y_test, y_pred, average='weighted')\n",
    "        recall = recall_score(self.y_test, y_pred, average='weighted')\n",
    "        f1 = f1_score(self.y_test, y_pred, average='weighted')\n",
    "\n",
    "        return {\n",
    "            \"Accuracy\": accuracy,\n",
    "            \"Precision\": precision,\n",
    "            \"Recall\": recall,\n",
    "            \"F1 Score\": f1\n",
    "        }\n",
    "\n",
    "    def get_model_params(self, model_name):\n",
    "        \"\"\"Retrieve model-specific parameters from the config.\"\"\"\n",
    "        return self.config.parms.get(model_name, {})\n",
    "\n",
    "    def log_to_mlflow(self, model_name, metrics):\n",
    "        \"\"\"Log model metrics and parameters to MLflow.\"\"\"\n",
    "        with mlflow.start_run(run_name=model_name):\n",
    "            model_params = self.get_model_params(model_name)\n",
    "            for param, value in model_params.items():\n",
    "                mlflow.log_param(param, value)\n",
    "                \n",
    "            for metric_name, metric_value in metrics.items():\n",
    "                try:\n",
    "                    mlflow.log_metric(metric_name, float(metric_value))\n",
    "                except ValueError:\n",
    "                    logger.error(f\"Metric {metric_name} with value {metric_value} is not numeric.\")\n",
    "                    \n",
    "            logger.info(f\"Logged {model_name} metrics to MLflow\")\n",
    "    \n",
    "    def evaluate_best_model(self):\n",
    "        \"\"\"Evaluate all models, log each to MLflow, and save the best model locally.\"\"\"\n",
    "        model_files = [os.path.join(self.config.model_path, model_file) for model_file in os.listdir(self.config.model_path)]\n",
    "        metrics_list = []\n",
    "        best_model = None\n",
    "        best_model_name = \"\"\n",
    "        best_f1_score = 0\n",
    "\n",
    "        for model_path in model_files:\n",
    "            model_name = os.path.basename(model_path).split('.')[0]\n",
    "            model = joblib.load(model_path)\n",
    "            logger.info(f\"Evaluating model: {model_name}\")\n",
    "            metrics = self.evaluate_model(model)\n",
    "            metrics['Model'] = model_name\n",
    "            metrics_list.append(metrics)\n",
    "            self.log_to_mlflow(model_name, metrics)\n",
    "\n",
    "            if metrics[\"F1 Score\"] > best_f1_score:\n",
    "                best_f1_score = metrics[\"F1 Score\"]\n",
    "                best_model = model\n",
    "                best_model_name = model_name\n",
    "                model_artifact_path = os.path.join(self.config.root_dir, f'{model_name}.joblib')\n",
    "        joblib.dump(best_model, model_artifact_path)\n",
    "        logger.info(f\"Best model is {best_model_name}\")\n",
    "        save_json(Path(self.config.metric_file_name), {\"metrics\": metrics_list})\n"
   ]
  },
  {
   "cell_type": "code",
   "execution_count": 9,
   "metadata": {},
   "outputs": [
    {
     "name": "stdout",
     "output_type": "stream",
     "text": [
      "[2024-10-26 15:46:01,880: INFO: common: yaml file: config/config.yaml loaded successfully]\n",
      "[2024-10-26 15:46:01,884: INFO: common: yaml file: params.yaml loaded successfully]\n",
      "[2024-10-26 15:46:01,886: INFO: common: yaml file: schema.yaml loaded successfully]\n",
      "[2024-10-26 15:46:01,888: INFO: common: created directory at: artifacts]\n",
      "[2024-10-26 15:46:01,890: INFO: common: created directory at: artifacts/model_evaluation]\n",
      "[2024-10-26 15:46:02,994: INFO: _client: HTTP Request: GET https://dagshub.com/api/v1/user \"HTTP/1.1 200 OK\"]\n"
     ]
    },
    {
     "data": {
      "text/html": [
       "<pre style=\"white-space:pre;overflow-x:auto;line-height:normal;font-family:Menlo,'DejaVu Sans Mono',consolas,'Courier New',monospace\">Accessing as omaar25\n",
       "</pre>\n"
      ],
      "text/plain": [
       "Accessing as omaar25\n"
      ]
     },
     "metadata": {},
     "output_type": "display_data"
    },
    {
     "name": "stdout",
     "output_type": "stream",
     "text": [
      "[2024-10-26 15:46:03,010: INFO: helpers: Accessing as omaar25]\n",
      "[2024-10-26 15:46:03,690: INFO: _client: HTTP Request: GET https://dagshub.com/api/v1/repos/omaar25/End-to-end-Machine-Learning-Project-with-MLflow \"HTTP/1.1 200 OK\"]\n"
     ]
    },
    {
     "data": {
      "text/html": [
       "<pre style=\"white-space:pre;overflow-x:auto;line-height:normal;font-family:Menlo,'DejaVu Sans Mono',consolas,'Courier New',monospace\">Initialized MLflow to track repo <span style=\"color: #008000; text-decoration-color: #008000\">\"omaar25/End-to-end-Machine-Learning-Project-with-MLflow\"</span>\n",
       "</pre>\n"
      ],
      "text/plain": [
       "Initialized MLflow to track repo \u001b[32m\"omaar25/End-to-end-Machine-Learning-Project-with-MLflow\"\u001b[0m\n"
      ]
     },
     "metadata": {},
     "output_type": "display_data"
    },
    {
     "name": "stdout",
     "output_type": "stream",
     "text": [
      "[2024-10-26 15:46:03,700: INFO: helpers: Initialized MLflow to track repo \"omaar25/End-to-end-Machine-Learning-Project-with-MLflow\"]\n"
     ]
    },
    {
     "data": {
      "text/html": [
       "<pre style=\"white-space:pre;overflow-x:auto;line-height:normal;font-family:Menlo,'DejaVu Sans Mono',consolas,'Courier New',monospace\">Repository omaar25/End-to-end-Machine-Learning-Project-with-MLflow initialized!\n",
       "</pre>\n"
      ],
      "text/plain": [
       "Repository omaar25/End-to-end-Machine-Learning-Project-with-MLflow initialized!\n"
      ]
     },
     "metadata": {},
     "output_type": "display_data"
    },
    {
     "name": "stdout",
     "output_type": "stream",
     "text": [
      "[2024-10-26 15:46:03,705: INFO: helpers: Repository omaar25/End-to-end-Machine-Learning-Project-with-MLflow initialized!]\n",
      "[2024-10-26 15:46:03,838: INFO: 555488300: Test data loaded successfully]\n",
      "[2024-10-26 15:46:04,008: INFO: 555488300: Evaluating model: Random_Forest]\n",
      "[2024-10-26 15:46:07,031: ERROR: 555488300: Metric Model with value Random_Forest is not numeric.]\n",
      "[2024-10-26 15:46:07,033: INFO: 555488300: Logged Random_Forest metrics to MLflow]\n"
     ]
    },
    {
     "name": "stderr",
     "output_type": "stream",
     "text": [
      "2024/10/26 15:46:07 INFO mlflow.tracking._tracking_service.client: 🏃 View run Random_Forest at: https://dagshub.com/omaar25/End-to-end-Machine-Learning-Project-with-MLflow.mlflow/#/experiments/0/runs/57a46ea4f6384741905b76d51181268d.\n",
      "2024/10/26 15:46:07 INFO mlflow.tracking._tracking_service.client: 🧪 View experiment at: https://dagshub.com/omaar25/End-to-end-Machine-Learning-Project-with-MLflow.mlflow/#/experiments/0.\n"
     ]
    },
    {
     "name": "stdout",
     "output_type": "stream",
     "text": [
      "[2024-10-26 15:46:07,774: INFO: 555488300: Evaluating model: Logistic_Regression]\n",
      "[2024-10-26 15:46:10,204: ERROR: 555488300: Metric Model with value Logistic_Regression is not numeric.]\n",
      "[2024-10-26 15:46:10,206: INFO: 555488300: Logged Logistic_Regression metrics to MLflow]\n"
     ]
    },
    {
     "name": "stderr",
     "output_type": "stream",
     "text": [
      "2024/10/26 15:46:10 INFO mlflow.tracking._tracking_service.client: 🏃 View run Logistic_Regression at: https://dagshub.com/omaar25/End-to-end-Machine-Learning-Project-with-MLflow.mlflow/#/experiments/0/runs/c3ad3c1abd5f469d9fbe1c1bd87dd846.\n",
      "2024/10/26 15:46:10 INFO mlflow.tracking._tracking_service.client: 🧪 View experiment at: https://dagshub.com/omaar25/End-to-end-Machine-Learning-Project-with-MLflow.mlflow/#/experiments/0.\n"
     ]
    },
    {
     "name": "stdout",
     "output_type": "stream",
     "text": [
      "[2024-10-26 15:46:11,079: INFO: 555488300: Evaluating model: SVM]\n",
      "[2024-10-26 15:46:40,945: ERROR: 555488300: Metric Model with value SVM is not numeric.]\n",
      "[2024-10-26 15:46:40,947: INFO: 555488300: Logged SVM metrics to MLflow]\n"
     ]
    },
    {
     "name": "stderr",
     "output_type": "stream",
     "text": [
      "2024/10/26 15:46:41 INFO mlflow.tracking._tracking_service.client: 🏃 View run SVM at: https://dagshub.com/omaar25/End-to-end-Machine-Learning-Project-with-MLflow.mlflow/#/experiments/0/runs/1933c589bcc1496e91dbbc130fc1ab25.\n",
      "2024/10/26 15:46:41 INFO mlflow.tracking._tracking_service.client: 🧪 View experiment at: https://dagshub.com/omaar25/End-to-end-Machine-Learning-Project-with-MLflow.mlflow/#/experiments/0.\n"
     ]
    },
    {
     "name": "stdout",
     "output_type": "stream",
     "text": [
      "[2024-10-26 15:46:41,665: INFO: 555488300: Evaluating model: Decision_Tree]\n",
      "[2024-10-26 15:46:43,591: ERROR: 555488300: Metric Model with value Decision_Tree is not numeric.]\n",
      "[2024-10-26 15:46:43,593: INFO: 555488300: Logged Decision_Tree metrics to MLflow]\n"
     ]
    },
    {
     "name": "stderr",
     "output_type": "stream",
     "text": [
      "2024/10/26 15:46:44 INFO mlflow.tracking._tracking_service.client: 🏃 View run Decision_Tree at: https://dagshub.com/omaar25/End-to-end-Machine-Learning-Project-with-MLflow.mlflow/#/experiments/0/runs/a5f78ee52d034dc4bf2e57ccd732bc15.\n",
      "2024/10/26 15:46:44 INFO mlflow.tracking._tracking_service.client: 🧪 View experiment at: https://dagshub.com/omaar25/End-to-end-Machine-Learning-Project-with-MLflow.mlflow/#/experiments/0.\n"
     ]
    },
    {
     "name": "stdout",
     "output_type": "stream",
     "text": [
      "[2024-10-26 15:46:44,331: INFO: common: json file saved at: artifacts/model_evaluation/metrics.json]\n",
      "[2024-10-26 15:46:44,454: INFO: 555488300: Best model is Random_Forest]\n"
     ]
    }
   ],
   "source": [
    "try:\n",
    "    config = ConfigurationManager()\n",
    "    model_evaluation_config = config.get_model_evaluation_config()\n",
    "    model_evaluation = ModelEvaluation(config=model_evaluation_config)\n",
    "    model_evaluation.load_test_data()\n",
    "    model_evaluation.evaluate_best_model()  # Change this line to evaluate only the best model\n",
    "except Exception as e:\n",
    "    logger.error(f\"Error during model evaluation: {e}\")\n",
    "    raise e\n"
   ]
  },
  {
   "cell_type": "code",
   "execution_count": null,
   "metadata": {},
   "outputs": [],
   "source": []
  },
  {
   "cell_type": "code",
   "execution_count": null,
   "metadata": {},
   "outputs": [],
   "source": []
  },
  {
   "cell_type": "code",
   "execution_count": null,
   "metadata": {},
   "outputs": [],
   "source": []
  },
  {
   "cell_type": "code",
   "execution_count": null,
   "metadata": {},
   "outputs": [],
   "source": []
  }
 ],
 "metadata": {
  "kernelspec": {
   "display_name": "pyarrow-env",
   "language": "python",
   "name": "python3"
  },
  "language_info": {
   "codemirror_mode": {
    "name": "ipython",
    "version": 3
   },
   "file_extension": ".py",
   "mimetype": "text/x-python",
   "name": "python",
   "nbconvert_exporter": "python",
   "pygments_lexer": "ipython3",
   "version": "3.11.10"
  }
 },
 "nbformat": 4,
 "nbformat_minor": 2
}
